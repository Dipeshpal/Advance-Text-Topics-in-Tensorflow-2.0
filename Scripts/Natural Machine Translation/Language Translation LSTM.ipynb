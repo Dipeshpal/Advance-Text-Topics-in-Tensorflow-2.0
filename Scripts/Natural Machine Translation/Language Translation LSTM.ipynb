{
 "cells": [
  {
   "cell_type": "code",
   "execution_count": 5,
   "metadata": {
    "colab": {
     "base_uri": "https://localhost:8080/",
     "height": 53
    },
    "executionInfo": {
     "elapsed": 1295,
     "status": "ok",
     "timestamp": 1603793315929,
     "user": {
      "displayName": "Jay Paul",
      "photoUrl": "https://lh3.googleusercontent.com/a-/AOh14GhhAeeNthaTT1COygFBEGgc09xYD8qgKmbCN8Jygg=s64",
      "userId": "16297805079436329129"
     },
     "user_tz": -330
    },
    "id": "JnhOAfsmLUjs",
    "outputId": "7ace1e62-8d8b-4d95-ace5-dda33f2b1989"
   },
   "outputs": [
    {
     "name": "stdout",
     "output_type": "stream",
     "text": [
      "Drive already mounted at /content/drive; to attempt to forcibly remount, call drive.mount(\"/content/drive\", force_remount=True).\n"
     ]
    }
   ],
   "source": [
    "from google.colab import drive\n",
    "drive.mount('/content/drive')\n",
    "\n",
    "import os\n",
    "os.chdir('/content/drive/My Drive/Projects/LSTM/')"
   ]
  },
  {
   "cell_type": "code",
   "execution_count": 22,
   "metadata": {
    "executionInfo": {
     "elapsed": 1026,
     "status": "ok",
     "timestamp": 1603793428794,
     "user": {
      "displayName": "Jay Paul",
      "photoUrl": "https://lh3.googleusercontent.com/a-/AOh14GhhAeeNthaTT1COygFBEGgc09xYD8qgKmbCN8Jygg=s64",
      "userId": "16297805079436329129"
     },
     "user_tz": -330
    },
    "id": "pCP50Gq9LTL-"
   },
   "outputs": [],
   "source": [
    "import numpy as np\n",
    "import string, re\n",
    "from string import digits\n",
    "from numpy import array, argmax, random, take\n",
    "import pandas as pd\n",
    "from tensorflow.keras.models import Sequential\n",
    "from tensorflow.keras.layers import Dense, LSTM, Embedding, RepeatVector\n",
    "from tensorflow.keras.callbacks import ModelCheckpoint, ReduceLROnPlateau\n",
    "from tensorflow.keras.preprocessing.text import Tokenizer\n",
    "from tensorflow.keras.preprocessing.sequence import pad_sequences\n",
    "from tensorflow.keras.models import load_model\n",
    "from tensorflow.keras import optimizers\n",
    "import matplotlib.pyplot as plt\n",
    "import warnings\n",
    "warnings.filterwarnings(\"ignore\")"
   ]
  },
  {
   "cell_type": "markdown",
   "metadata": {
    "id": "3ufWeBGbjGhj"
   },
   "source": [
    "# Read Data"
   ]
  },
  {
   "cell_type": "code",
   "execution_count": 7,
   "metadata": {
    "executionInfo": {
     "elapsed": 2181,
     "status": "ok",
     "timestamp": 1603793317358,
     "user": {
      "displayName": "Jay Paul",
      "photoUrl": "https://lh3.googleusercontent.com/a-/AOh14GhhAeeNthaTT1COygFBEGgc09xYD8qgKmbCN8Jygg=s64",
      "userId": "16297805079436329129"
     },
     "user_tz": -330
    },
    "id": "StIphxZ_LTMF"
   },
   "outputs": [],
   "source": [
    "def read_data(file_name=\"fra.txt\"):\n",
    "    data_path = f\"{file_name}\"\n",
    "    df = pd.read_table(data_path, names=['source', 'target', 'comments'])\n",
    "    df = df.drop(['comments'], axis = 1) \n",
    "    return df"
   ]
  },
  {
   "cell_type": "code",
   "execution_count": 8,
   "metadata": {
    "colab": {
     "base_uri": "https://localhost:8080/",
     "height": 213
    },
    "executionInfo": {
     "elapsed": 1726,
     "status": "ok",
     "timestamp": 1603793319971,
     "user": {
      "displayName": "Jay Paul",
      "photoUrl": "https://lh3.googleusercontent.com/a-/AOh14GhhAeeNthaTT1COygFBEGgc09xYD8qgKmbCN8Jygg=s64",
      "userId": "16297805079436329129"
     },
     "user_tz": -330
    },
    "id": "umg0rAr5LTMI",
    "outputId": "799f6056-b4bc-4748-b5e3-f25d7b15d21e"
   },
   "outputs": [
    {
     "name": "stdout",
     "output_type": "stream",
     "text": [
      "(178009, 2)\n"
     ]
    },
    {
     "data": {
      "text/html": [
       "<div>\n",
       "<style scoped>\n",
       "    .dataframe tbody tr th:only-of-type {\n",
       "        vertical-align: middle;\n",
       "    }\n",
       "\n",
       "    .dataframe tbody tr th {\n",
       "        vertical-align: top;\n",
       "    }\n",
       "\n",
       "    .dataframe thead th {\n",
       "        text-align: right;\n",
       "    }\n",
       "</style>\n",
       "<table border=\"1\" class=\"dataframe\">\n",
       "  <thead>\n",
       "    <tr style=\"text-align: right;\">\n",
       "      <th></th>\n",
       "      <th>source</th>\n",
       "      <th>target</th>\n",
       "    </tr>\n",
       "  </thead>\n",
       "  <tbody>\n",
       "    <tr>\n",
       "      <th>0</th>\n",
       "      <td>Go.</td>\n",
       "      <td>Va !</td>\n",
       "    </tr>\n",
       "    <tr>\n",
       "      <th>1</th>\n",
       "      <td>Hi.</td>\n",
       "      <td>Salut !</td>\n",
       "    </tr>\n",
       "    <tr>\n",
       "      <th>2</th>\n",
       "      <td>Hi.</td>\n",
       "      <td>Salut.</td>\n",
       "    </tr>\n",
       "    <tr>\n",
       "      <th>3</th>\n",
       "      <td>Run!</td>\n",
       "      <td>Cours !</td>\n",
       "    </tr>\n",
       "    <tr>\n",
       "      <th>4</th>\n",
       "      <td>Run!</td>\n",
       "      <td>Courez !</td>\n",
       "    </tr>\n",
       "  </tbody>\n",
       "</table>\n",
       "</div>"
      ],
      "text/plain": [
       "  source    target\n",
       "0    Go.      Va !\n",
       "1    Hi.   Salut !\n",
       "2    Hi.    Salut.\n",
       "3   Run!   Cours !\n",
       "4   Run!  Courez !"
      ]
     },
     "execution_count": 8,
     "metadata": {
      "tags": []
     },
     "output_type": "execute_result"
    }
   ],
   "source": [
    "df = read_data()\n",
    "print(df.shape)\n",
    "df.head()"
   ]
  },
  {
   "cell_type": "code",
   "execution_count": 9,
   "metadata": {
    "colab": {
     "base_uri": "https://localhost:8080/",
     "height": 213
    },
    "executionInfo": {
     "elapsed": 1227,
     "status": "ok",
     "timestamp": 1603793319973,
     "user": {
      "displayName": "Jay Paul",
      "photoUrl": "https://lh3.googleusercontent.com/a-/AOh14GhhAeeNthaTT1COygFBEGgc09xYD8qgKmbCN8Jygg=s64",
      "userId": "16297805079436329129"
     },
     "user_tz": -330
    },
    "id": "xE0EKz_pZA8K",
    "outputId": "ca518209-ed6f-4373-94fc-815a13ccb58d"
   },
   "outputs": [
    {
     "name": "stdout",
     "output_type": "stream",
     "text": [
      "(75000, 2)\n"
     ]
    },
    {
     "data": {
      "text/html": [
       "<div>\n",
       "<style scoped>\n",
       "    .dataframe tbody tr th:only-of-type {\n",
       "        vertical-align: middle;\n",
       "    }\n",
       "\n",
       "    .dataframe tbody tr th {\n",
       "        vertical-align: top;\n",
       "    }\n",
       "\n",
       "    .dataframe thead th {\n",
       "        text-align: right;\n",
       "    }\n",
       "</style>\n",
       "<table border=\"1\" class=\"dataframe\">\n",
       "  <thead>\n",
       "    <tr style=\"text-align: right;\">\n",
       "      <th></th>\n",
       "      <th>source</th>\n",
       "      <th>target</th>\n",
       "    </tr>\n",
       "  </thead>\n",
       "  <tbody>\n",
       "    <tr>\n",
       "      <th>0</th>\n",
       "      <td>Go.</td>\n",
       "      <td>Va !</td>\n",
       "    </tr>\n",
       "    <tr>\n",
       "      <th>1</th>\n",
       "      <td>Hi.</td>\n",
       "      <td>Salut !</td>\n",
       "    </tr>\n",
       "    <tr>\n",
       "      <th>2</th>\n",
       "      <td>Hi.</td>\n",
       "      <td>Salut.</td>\n",
       "    </tr>\n",
       "    <tr>\n",
       "      <th>3</th>\n",
       "      <td>Run!</td>\n",
       "      <td>Cours !</td>\n",
       "    </tr>\n",
       "    <tr>\n",
       "      <th>4</th>\n",
       "      <td>Run!</td>\n",
       "      <td>Courez !</td>\n",
       "    </tr>\n",
       "  </tbody>\n",
       "</table>\n",
       "</div>"
      ],
      "text/plain": [
       "  source    target\n",
       "0    Go.      Va !\n",
       "1    Hi.   Salut !\n",
       "2    Hi.    Salut.\n",
       "3   Run!   Cours !\n",
       "4   Run!  Courez !"
      ]
     },
     "execution_count": 9,
     "metadata": {
      "tags": []
     },
     "output_type": "execute_result"
    }
   ],
   "source": [
    "examples = 75000\n",
    "df = df[:examples]\n",
    "print(df.shape)\n",
    "df.head()"
   ]
  },
  {
   "cell_type": "markdown",
   "metadata": {
    "id": "bMeU38j2jBjb"
   },
   "source": [
    "# Preprocess"
   ]
  },
  {
   "cell_type": "code",
   "execution_count": 10,
   "metadata": {
    "executionInfo": {
     "elapsed": 1071,
     "status": "ok",
     "timestamp": 1603793320447,
     "user": {
      "displayName": "Jay Paul",
      "photoUrl": "https://lh3.googleusercontent.com/a-/AOh14GhhAeeNthaTT1COygFBEGgc09xYD8qgKmbCN8Jygg=s64",
      "userId": "16297805079436329129"
     },
     "user_tz": -330
    },
    "id": "mi8lbLXqLTMM"
   },
   "outputs": [],
   "source": [
    "def preprocess(df):\n",
    "    # convert source and target text to Lowercase\n",
    "    df.source = df.source.apply(lambda x: x.lower())\n",
    "    df.target = df.target.apply(lambda x: x.lower())\n",
    "    \n",
    "    # creating a space between a word and the punctuation following it\n",
    "    df.source = df.source.apply(lambda x: re.sub(r\"([?.!,¿])\", r\" \\1 \", x))\n",
    "    df.target = df.target.apply(lambda x: re.sub(r\"([?.!,¿])\", r\" \\1 \", x))\n",
    "    \n",
    "    df.source = df.source.apply(lambda x: re.sub(r'[\" \"]+', \" \", x))\n",
    "    df.target = df.target.apply(lambda x: re.sub(r'[\" \"]+', \" \", x))\n",
    "    \n",
    "    # replacing everything with space except (a-z, A-Z, \".\", \"?\", \"!\", \",\")\n",
    "    df.source = df.source.apply(lambda x: re.sub(r\"[^a-zA-Z?.!,¿]+\", \" \", x))\n",
    "    df.target = df.target.apply(lambda x: re.sub(r\"[^a-zA-Z?.!,¿]+\", \" \", x))\n",
    "    \n",
    "    # Remove digits from source and target sentences\n",
    "    num_digits = str.maketrans('', '', digits)\n",
    "    df.source = df.source.apply(lambda x: x.translate(num_digits))\n",
    "    df.target = df.target.apply(lambda x: x.translate(num_digits))\n",
    "    \n",
    "    # Remove extra spaces\n",
    "    df.source = df.source.apply(lambda x: x.strip())\n",
    "    df.target = df.target.apply(lambda x: x.strip())\n",
    "    df.source = df.source.apply(lambda x: re.sub(\" +\", \" \", x))\n",
    "    df.target = df.target.apply(lambda x: re.sub(\" +\", \" \", x))\n",
    "\n",
    "    # Add start and end tokens to target sequences\n",
    "    df.target = df.target.apply(lambda x: 'START_ ' + x + ' _END')\n",
    "    \n",
    "    return df"
   ]
  },
  {
   "cell_type": "code",
   "execution_count": 11,
   "metadata": {
    "colab": {
     "base_uri": "https://localhost:8080/",
     "height": 196
    },
    "executionInfo": {
     "elapsed": 3045,
     "status": "ok",
     "timestamp": 1603793323105,
     "user": {
      "displayName": "Jay Paul",
      "photoUrl": "https://lh3.googleusercontent.com/a-/AOh14GhhAeeNthaTT1COygFBEGgc09xYD8qgKmbCN8Jygg=s64",
      "userId": "16297805079436329129"
     },
     "user_tz": -330
    },
    "id": "B5LWMDlQLTMP",
    "outputId": "8743d0b7-641b-4f56-d072-8c138bfce9c7"
   },
   "outputs": [
    {
     "data": {
      "text/html": [
       "<div>\n",
       "<style scoped>\n",
       "    .dataframe tbody tr th:only-of-type {\n",
       "        vertical-align: middle;\n",
       "    }\n",
       "\n",
       "    .dataframe tbody tr th {\n",
       "        vertical-align: top;\n",
       "    }\n",
       "\n",
       "    .dataframe thead th {\n",
       "        text-align: right;\n",
       "    }\n",
       "</style>\n",
       "<table border=\"1\" class=\"dataframe\">\n",
       "  <thead>\n",
       "    <tr style=\"text-align: right;\">\n",
       "      <th></th>\n",
       "      <th>source</th>\n",
       "      <th>target</th>\n",
       "    </tr>\n",
       "  </thead>\n",
       "  <tbody>\n",
       "    <tr>\n",
       "      <th>0</th>\n",
       "      <td>go .</td>\n",
       "      <td>START_ va ! _END</td>\n",
       "    </tr>\n",
       "    <tr>\n",
       "      <th>1</th>\n",
       "      <td>hi .</td>\n",
       "      <td>START_ salut ! _END</td>\n",
       "    </tr>\n",
       "    <tr>\n",
       "      <th>2</th>\n",
       "      <td>hi .</td>\n",
       "      <td>START_ salut . _END</td>\n",
       "    </tr>\n",
       "    <tr>\n",
       "      <th>3</th>\n",
       "      <td>run !</td>\n",
       "      <td>START_ cours ! _END</td>\n",
       "    </tr>\n",
       "    <tr>\n",
       "      <th>4</th>\n",
       "      <td>run !</td>\n",
       "      <td>START_ courez ! _END</td>\n",
       "    </tr>\n",
       "  </tbody>\n",
       "</table>\n",
       "</div>"
      ],
      "text/plain": [
       "  source                target\n",
       "0   go .      START_ va ! _END\n",
       "1   hi .   START_ salut ! _END\n",
       "2   hi .   START_ salut . _END\n",
       "3  run !   START_ cours ! _END\n",
       "4  run !  START_ courez ! _END"
      ]
     },
     "execution_count": 11,
     "metadata": {
      "tags": []
     },
     "output_type": "execute_result"
    }
   ],
   "source": [
    "df = preprocess(df)\n",
    "df.head()"
   ]
  },
  {
   "cell_type": "markdown",
   "metadata": {
    "id": "4V3eZpqgi_Av"
   },
   "source": [
    "# Tokenization"
   ]
  },
  {
   "cell_type": "code",
   "execution_count": 12,
   "metadata": {
    "executionInfo": {
     "elapsed": 2268,
     "status": "ok",
     "timestamp": 1603793323107,
     "user": {
      "displayName": "Jay Paul",
      "photoUrl": "https://lh3.googleusercontent.com/a-/AOh14GhhAeeNthaTT1COygFBEGgc09xYD8qgKmbCN8Jygg=s64",
      "userId": "16297805079436329129"
     },
     "user_tz": -330
    },
    "id": "ko531tNVLTMS"
   },
   "outputs": [],
   "source": [
    "def tokenization(data, maxlen = 100):\n",
    "    token = Tokenizer(lower=True, oov_token='oov')\n",
    "    token.fit_on_texts(data)\n",
    "    \n",
    "    data_seq = token.texts_to_sequences(data)\n",
    "    data_pad = pad_sequences(data_seq, maxlen=maxlen, padding='post')\n",
    "    \n",
    "    return token, data_pad"
   ]
  },
  {
   "cell_type": "code",
   "execution_count": 13,
   "metadata": {
    "executionInfo": {
     "elapsed": 4475,
     "status": "ok",
     "timestamp": 1603793326257,
     "user": {
      "displayName": "Jay Paul",
      "photoUrl": "https://lh3.googleusercontent.com/a-/AOh14GhhAeeNthaTT1COygFBEGgc09xYD8qgKmbCN8Jygg=s64",
      "userId": "16297805079436329129"
     },
     "user_tz": -330
    },
    "id": "jJmZhBOeLTMV"
   },
   "outputs": [],
   "source": [
    "maxlen = 50\n",
    "token_src, tensor_src = tokenization(df['source'], maxlen)\n",
    "token_trg, tensor_trg = tokenization(df['target'], maxlen)"
   ]
  },
  {
   "cell_type": "code",
   "execution_count": 14,
   "metadata": {
    "colab": {
     "base_uri": "https://localhost:8080/",
     "height": 50
    },
    "executionInfo": {
     "elapsed": 2470,
     "status": "ok",
     "timestamp": 1603793326259,
     "user": {
      "displayName": "Jay Paul",
      "photoUrl": "https://lh3.googleusercontent.com/a-/AOh14GhhAeeNthaTT1COygFBEGgc09xYD8qgKmbCN8Jygg=s64",
      "userId": "16297805079436329129"
     },
     "user_tz": -330
    },
    "id": "vYNB-F7aLTMY",
    "outputId": "6a1cff24-2adf-4a4d-9a03-0f4bc585fd66"
   },
   "outputs": [
    {
     "name": "stdout",
     "output_type": "stream",
     "text": [
      "Size of English Vocabulary : 7292\n",
      "Size of Hindi Vocabulary : 11300\n"
     ]
    }
   ],
   "source": [
    "# prepare english tokenizer\n",
    "eng_tokenizer =token_src\n",
    "eng_vocab_size = len(eng_tokenizer.word_index) + 1\n",
    "eng_length = maxlen\n",
    "print('Size of English Vocabulary : %d' % eng_vocab_size)\n",
    "\n",
    "# prepare Hindi tokenizer\n",
    "hin_tokenizer = token_trg\n",
    "hin_vocab_size = len(hin_tokenizer.word_index) + 1\n",
    "hin_length = maxlen\n",
    "print('Size of Hindi Vocabulary : %d' % hin_vocab_size)"
   ]
  },
  {
   "cell_type": "markdown",
   "metadata": {
    "id": "hNrVobx5i6yG"
   },
   "source": [
    "# Glove and Embedding Matrix"
   ]
  },
  {
   "cell_type": "code",
   "execution_count": 15,
   "metadata": {
    "colab": {
     "base_uri": "https://localhost:8080/",
     "height": 33
    },
    "executionInfo": {
     "elapsed": 11028,
     "status": "ok",
     "timestamp": 1603793335317,
     "user": {
      "displayName": "Jay Paul",
      "photoUrl": "https://lh3.googleusercontent.com/a-/AOh14GhhAeeNthaTT1COygFBEGgc09xYD8qgKmbCN8Jygg=s64",
      "userId": "16297805079436329129"
     },
     "user_tz": -330
    },
    "id": "DQr3nYSCLTMb",
    "outputId": "ac118839-3149-4496-bcb3-d53798f0929d"
   },
   "outputs": [
    {
     "data": {
      "text/plain": [
       "400000"
      ]
     },
     "execution_count": 15,
     "metadata": {
      "tags": []
     },
     "output_type": "execute_result"
    }
   ],
   "source": [
    "# creating glove vectors\n",
    "def get_glove_vector():\n",
    "    glove_vectors = {}\n",
    "\n",
    "    with open(\"glove/glove.6B.100d.txt\", \"r\", encoding=\"UTF-8\") as glove:\n",
    "        for line in glove:\n",
    "            values = line.split()\n",
    "            word = values[0]\n",
    "            vectors = np.asarray(values[1:])\n",
    "            glove_vectors[word] = vectors\n",
    "    return glove_vectors\n",
    "\n",
    "glove_vectors = get_glove_vector()\n",
    "total_words = len(glove_vectors.keys()) \n",
    "total_words"
   ]
  },
  {
   "cell_type": "code",
   "execution_count": 16,
   "metadata": {
    "executionInfo": {
     "elapsed": 10496,
     "status": "ok",
     "timestamp": 1603793335318,
     "user": {
      "displayName": "Jay Paul",
      "photoUrl": "https://lh3.googleusercontent.com/a-/AOh14GhhAeeNthaTT1COygFBEGgc09xYD8qgKmbCN8Jygg=s64",
      "userId": "16297805079436329129"
     },
     "user_tz": -330
    },
    "id": "7fcZPOaYLTMf"
   },
   "outputs": [],
   "source": [
    "emb_dim = 100\n",
    "\n",
    "# create word vector matrix with glove vectors\n",
    "def create_word_vector_matrix(token, glove_vectors, vocab_size, emb_dim):\n",
    "    word_vector_matrix = np.zeros((vocab_size, emb_dim))\n",
    "    \n",
    "    count = 0\n",
    "    for word, index in token.word_index.items():\n",
    "        vector = glove_vectors.get(word)\n",
    "        if vector is not None:\n",
    "            word_vector_matrix[index] = vector\n",
    "        else:\n",
    "            count += 1\n",
    "    print(f\"Vector not found for {count} words\")\n",
    "    return word_vector_matrix"
   ]
  },
  {
   "cell_type": "code",
   "execution_count": 17,
   "metadata": {
    "colab": {
     "base_uri": "https://localhost:8080/",
     "height": 50
    },
    "executionInfo": {
     "elapsed": 10335,
     "status": "ok",
     "timestamp": 1603793335725,
     "user": {
      "displayName": "Jay Paul",
      "photoUrl": "https://lh3.googleusercontent.com/a-/AOh14GhhAeeNthaTT1COygFBEGgc09xYD8qgKmbCN8Jygg=s64",
      "userId": "16297805079436329129"
     },
     "user_tz": -330
    },
    "id": "z0wFtSwhLTMh",
    "outputId": "99f3497f-8eae-444f-a513-f22421845ae4"
   },
   "outputs": [
    {
     "name": "stdout",
     "output_type": "stream",
     "text": [
      "Vector not found for 13 words\n",
      "Vector not found for 7048 words\n"
     ]
    }
   ],
   "source": [
    "emb_matrix_src = create_word_vector_matrix(token_src, glove_vectors, eng_vocab_size, emb_dim)\n",
    "emb_matrix_trg = create_word_vector_matrix(token_trg, glove_vectors, hin_vocab_size, emb_dim)"
   ]
  },
  {
   "cell_type": "markdown",
   "metadata": {
    "id": "pPjTjHQAi3V4"
   },
   "source": [
    "# Model"
   ]
  },
  {
   "cell_type": "code",
   "execution_count": 23,
   "metadata": {
    "colab": {
     "base_uri": "https://localhost:8080/",
     "height": 318
    },
    "executionInfo": {
     "elapsed": 3473,
     "status": "ok",
     "timestamp": 1603793437350,
     "user": {
      "displayName": "Jay Paul",
      "photoUrl": "https://lh3.googleusercontent.com/a-/AOh14GhhAeeNthaTT1COygFBEGgc09xYD8qgKmbCN8Jygg=s64",
      "userId": "16297805079436329129"
     },
     "user_tz": -330
    },
    "id": "ZYPAFKbNLTMq",
    "outputId": "657352a2-ea77-457a-bc91-e402ba7346f4"
   },
   "outputs": [
    {
     "name": "stdout",
     "output_type": "stream",
     "text": [
      "Model: \"sequential_1\"\n",
      "_________________________________________________________________\n",
      "Layer (type)                 Output Shape              Param #   \n",
      "=================================================================\n",
      "embedding_1 (Embedding)      (None, 50, 100)           729200    \n",
      "_________________________________________________________________\n",
      "bidirectional (Bidirectional (None, 1024)              2510848   \n",
      "_________________________________________________________________\n",
      "repeat_vector (RepeatVector) (None, 50, 1024)          0         \n",
      "_________________________________________________________________\n",
      "bidirectional_1 (Bidirection (None, 50, 1024)          6295552   \n",
      "_________________________________________________________________\n",
      "dense (Dense)                (None, 50, 11300)         11582500  \n",
      "=================================================================\n",
      "Total params: 21,118,100\n",
      "Trainable params: 21,118,100\n",
      "Non-trainable params: 0\n",
      "_________________________________________________________________\n"
     ]
    }
   ],
   "source": [
    "model_name = \"models/\"+\"LSTM.h5\"\n",
    "\n",
    "modelcheckpoint = ModelCheckpoint(model_name,\n",
    "                                  monitor='val_loss',\n",
    "                                  mode='auto',\n",
    "                                  verbose=1,\n",
    "                                  save_best_only=True)\n",
    "\n",
    "lr_callback = ReduceLROnPlateau(min_lr=0.000001)\n",
    "\n",
    "callback_list = [modelcheckpoint, lr_callback]\n",
    "\n",
    "\n",
    "model = Sequential()\n",
    "model.add(Embedding(eng_vocab_size, 100, input_length=eng_length, mask_zero=True, weights=[emb_matrix_src]))\n",
    "model.add(LSTM(512))\n",
    "model.add(RepeatVector(hin_length))\n",
    "model.add(LSTM(512, return_sequences=True))\n",
    "model.add(Dense(hin_vocab_size, activation='softmax'))\n",
    " \n",
    "rms = optimizers.RMSprop(lr=0.001)\n",
    "model.compile(optimizer=rms, loss='sparse_categorical_crossentropy',  metrics=[\"accuracy\"])\n",
    "model.summary()"
   ]
  },
  {
   "cell_type": "code",
   "execution_count": 24,
   "metadata": {
    "colab": {
     "base_uri": "https://localhost:8080/",
     "height": 33
    },
    "executionInfo": {
     "elapsed": 1215,
     "status": "ok",
     "timestamp": 1603793442409,
     "user": {
      "displayName": "Jay Paul",
      "photoUrl": "https://lh3.googleusercontent.com/a-/AOh14GhhAeeNthaTT1COygFBEGgc09xYD8qgKmbCN8Jygg=s64",
      "userId": "16297805079436329129"
     },
     "user_tz": -330
    },
    "id": "NRj7q2qfLTMt",
    "outputId": "8890f151-83d2-44c2-e849-b0f491d7a51f"
   },
   "outputs": [
    {
     "name": "stdout",
     "output_type": "stream",
     "text": [
      "(75000, 50) (75000, 50)\n"
     ]
    }
   ],
   "source": [
    "print(tensor_src.shape, tensor_trg.shape)"
   ]
  },
  {
   "cell_type": "code",
   "execution_count": 25,
   "metadata": {
    "colab": {
     "base_uri": "https://localhost:8080/",
     "height": 706
    },
    "executionInfo": {
     "elapsed": 2081011,
     "status": "ok",
     "timestamp": 1603795532187,
     "user": {
      "displayName": "Jay Paul",
      "photoUrl": "https://lh3.googleusercontent.com/a-/AOh14GhhAeeNthaTT1COygFBEGgc09xYD8qgKmbCN8Jygg=s64",
      "userId": "16297805079436329129"
     },
     "user_tz": -330
    },
    "id": "ogjkUAjyLTMx",
    "outputId": "9d3a7419-802d-4575-cbfe-e09d324a2820"
   },
   "outputs": [
    {
     "name": "stdout",
     "output_type": "stream",
     "text": [
      "Epoch 1/10\n",
      "1875/1875 [==============================] - ETA: 0s - loss: 0.5622 - accuracy: 0.9070\n",
      "Epoch 00001: val_loss improved from inf to 0.65051, saving model to models/LSTM.h5\n",
      "1875/1875 [==============================] - 209s 111ms/step - loss: 0.5622 - accuracy: 0.9070 - val_loss: 0.6505 - val_accuracy: 0.8881\n",
      "Epoch 2/10\n",
      "1875/1875 [==============================] - ETA: 0s - loss: 0.4275 - accuracy: 0.9221\n",
      "Epoch 00002: val_loss improved from 0.65051 to 0.57655, saving model to models/LSTM.h5\n",
      "1875/1875 [==============================] - 207s 110ms/step - loss: 0.4275 - accuracy: 0.9221 - val_loss: 0.5766 - val_accuracy: 0.8964\n",
      "Epoch 3/10\n",
      "1875/1875 [==============================] - ETA: 0s - loss: 0.3704 - accuracy: 0.9293\n",
      "Epoch 00003: val_loss improved from 0.57655 to 0.54835, saving model to models/LSTM.h5\n",
      "1875/1875 [==============================] - 207s 110ms/step - loss: 0.3704 - accuracy: 0.9293 - val_loss: 0.5484 - val_accuracy: 0.9005\n",
      "Epoch 4/10\n",
      "1875/1875 [==============================] - ETA: 0s - loss: 0.3311 - accuracy: 0.9351\n",
      "Epoch 00004: val_loss improved from 0.54835 to 0.53500, saving model to models/LSTM.h5\n",
      "1875/1875 [==============================] - 206s 110ms/step - loss: 0.3311 - accuracy: 0.9351 - val_loss: 0.5350 - val_accuracy: 0.9017\n",
      "Epoch 5/10\n",
      "1875/1875 [==============================] - ETA: 0s - loss: 0.3012 - accuracy: 0.9400\n",
      "Epoch 00005: val_loss improved from 0.53500 to 0.53182, saving model to models/LSTM.h5\n",
      "1875/1875 [==============================] - 206s 110ms/step - loss: 0.3012 - accuracy: 0.9400 - val_loss: 0.5318 - val_accuracy: 0.9039\n",
      "Epoch 6/10\n",
      "1875/1875 [==============================] - ETA: 0s - loss: 0.2735 - accuracy: 0.9440\n",
      "Epoch 00006: val_loss did not improve from 0.53182\n",
      "1875/1875 [==============================] - 206s 110ms/step - loss: 0.2735 - accuracy: 0.9440 - val_loss: 0.5374 - val_accuracy: 0.9047\n",
      "Epoch 7/10\n",
      "1875/1875 [==============================] - ETA: 0s - loss: 0.2490 - accuracy: 0.9476\n",
      "Epoch 00007: val_loss did not improve from 0.53182\n",
      "1875/1875 [==============================] - 207s 111ms/step - loss: 0.2490 - accuracy: 0.9476 - val_loss: 0.5402 - val_accuracy: 0.9053\n",
      "Epoch 8/10\n",
      "1875/1875 [==============================] - ETA: 0s - loss: 0.2288 - accuracy: 0.9504\n",
      "Epoch 00008: val_loss did not improve from 0.53182\n",
      "1875/1875 [==============================] - 208s 111ms/step - loss: 0.2288 - accuracy: 0.9504 - val_loss: 0.5438 - val_accuracy: 0.9036\n",
      "Epoch 9/10\n",
      "1875/1875 [==============================] - ETA: 0s - loss: 0.2107 - accuracy: 0.9530\n",
      "Epoch 00009: val_loss did not improve from 0.53182\n",
      "1875/1875 [==============================] - 207s 111ms/step - loss: 0.2107 - accuracy: 0.9530 - val_loss: 0.5448 - val_accuracy: 0.9044\n",
      "Epoch 10/10\n",
      "1875/1875 [==============================] - ETA: 0s - loss: 0.1935 - accuracy: 0.9552\n",
      "Epoch 00010: val_loss did not improve from 0.53182\n",
      "1875/1875 [==============================] - 208s 111ms/step - loss: 0.1935 - accuracy: 0.9552 - val_loss: 0.5489 - val_accuracy: 0.9039\n"
     ]
    }
   ],
   "source": [
    "history = model.fit(tensor_src, tensor_trg, epochs=10, batch_size=32, validation_split=0.2, callbacks=callback_list, shuffle=True)"
   ]
  },
  {
   "cell_type": "markdown",
   "metadata": {
    "id": "7QbiwpPKihkS"
   },
   "source": [
    "# Inference"
   ]
  },
  {
   "cell_type": "code",
   "execution_count": 26,
   "metadata": {
    "executionInfo": {
     "elapsed": 999,
     "status": "ok",
     "timestamp": 1603795541335,
     "user": {
      "displayName": "Jay Paul",
      "photoUrl": "https://lh3.googleusercontent.com/a-/AOh14GhhAeeNthaTT1COygFBEGgc09xYD8qgKmbCN8Jygg=s64",
      "userId": "16297805079436329129"
     },
     "user_tz": -330
    },
    "id": "oHrhoIL8UQeR"
   },
   "outputs": [],
   "source": [
    "reverse_word_index_src = {v: k for k, v in token_src.word_index.items()}\n",
    "reverse_word_index_trg = {v: k for k, v in token_trg.word_index.items()}"
   ]
  },
  {
   "cell_type": "code",
   "execution_count": 59,
   "metadata": {
    "executionInfo": {
     "elapsed": 1382,
     "status": "ok",
     "timestamp": 1603796136070,
     "user": {
      "displayName": "Jay Paul",
      "photoUrl": "https://lh3.googleusercontent.com/a-/AOh14GhhAeeNthaTT1COygFBEGgc09xYD8qgKmbCN8Jygg=s64",
      "userId": "16297805079436329129"
     },
     "user_tz": -330
    },
    "id": "di8rO_oaUSid"
   },
   "outputs": [],
   "source": [
    "def simplify(perdicted_tensor):\n",
    "  string = ''\n",
    "  for i in perdicted_tensor:\n",
    "    word = reverse_word_index_trg.get(i)\n",
    "    if word is not None:\n",
    "      string += word + ' '\n",
    "    # print(i, string)\n",
    "  string = string.split(\" \")[1:-2]\n",
    "  ans = ''\n",
    "  for j in string:\n",
    "    ans += j + \" \"\n",
    "  return ans[:-1]"
   ]
  },
  {
   "cell_type": "code",
   "execution_count": 67,
   "metadata": {
    "executionInfo": {
     "elapsed": 1928,
     "status": "ok",
     "timestamp": 1603796225232,
     "user": {
      "displayName": "Jay Paul",
      "photoUrl": "https://lh3.googleusercontent.com/a-/AOh14GhhAeeNthaTT1COygFBEGgc09xYD8qgKmbCN8Jygg=s64",
      "userId": "16297805079436329129"
     },
     "user_tz": -330
    },
    "id": "bOFRiNAzLTM0"
   },
   "outputs": [],
   "source": [
    "res = model.predict_classes(tensor_src[50:51])"
   ]
  },
  {
   "cell_type": "code",
   "execution_count": 68,
   "metadata": {
    "colab": {
     "base_uri": "https://localhost:8080/",
     "height": 35
    },
    "executionInfo": {
     "elapsed": 2003,
     "status": "ok",
     "timestamp": 1603796231723,
     "user": {
      "displayName": "Jay Paul",
      "photoUrl": "https://lh3.googleusercontent.com/a-/AOh14GhhAeeNthaTT1COygFBEGgc09xYD8qgKmbCN8Jygg=s64",
      "userId": "16297805079436329129"
     },
     "user_tz": -330
    },
    "id": "agSVRcxIQXDo",
    "outputId": "d2e0d6bc-84cd-4f83-9509-9242efdffcc3"
   },
   "outputs": [
    {
     "data": {
      "application/vnd.google.colaboratory.intrinsic+json": {
       "type": "string"
      },
      "text/plain": [
       "'je suis parti'"
      ]
     },
     "execution_count": 68,
     "metadata": {
      "tags": []
     },
     "output_type": "execute_result"
    }
   ],
   "source": [
    "res = simplify(list(res[0]))\n",
    "res"
   ]
  },
  {
   "cell_type": "code",
   "execution_count": 69,
   "metadata": {
    "colab": {
     "base_uri": "https://localhost:8080/",
     "height": 50
    },
    "executionInfo": {
     "elapsed": 3207,
     "status": "ok",
     "timestamp": 1603796237890,
     "user": {
      "displayName": "Jay Paul",
      "photoUrl": "https://lh3.googleusercontent.com/a-/AOh14GhhAeeNthaTT1COygFBEGgc09xYD8qgKmbCN8Jygg=s64",
      "userId": "16297805079436329129"
     },
     "user_tz": -330
    },
    "id": "joA-ej81s6H4",
    "outputId": "bb21e159-baf1-40cd-e9ab-40448a6eeb5e"
   },
   "outputs": [
    {
     "data": {
      "text/plain": [
       "50    i left .\n",
       "Name: source, dtype: object"
      ]
     },
     "execution_count": 69,
     "metadata": {
      "tags": []
     },
     "output_type": "execute_result"
    }
   ],
   "source": [
    "df['source'][50:51]"
   ]
  },
  {
   "cell_type": "code",
   "execution_count": 70,
   "metadata": {
    "colab": {
     "base_uri": "https://localhost:8080/",
     "height": 279
    },
    "executionInfo": {
     "elapsed": 1091,
     "status": "ok",
     "timestamp": 1603796987574,
     "user": {
      "displayName": "Jay Paul",
      "photoUrl": "https://lh3.googleusercontent.com/a-/AOh14GhhAeeNthaTT1COygFBEGgc09xYD8qgKmbCN8Jygg=s64",
      "userId": "16297805079436329129"
     },
     "user_tz": -330
    },
    "id": "rpwOoRqss-9r",
    "outputId": "cb718218-0dbd-48db-b176-461a30dc1acb"
   },
   "outputs": [
    {
     "data": {
      "image/png": "[encoded data removed]",
      "text/plain": [
       "<Figure size 432x288 with 1 Axes>"
      ]
     },
     "metadata": {
      "needs_background": "light",
      "tags": []
     },
     "output_type": "display_data"
    }
   ],
   "source": [
    "plt.plot(history.history['loss'], c='m')\n",
    "plt.plot(history.history['val_loss'], c='y')\n",
    "plt.legend(['train_loss', 'validation_loss'])\n",
    "plt.xlabel(\"Epochs\")\n",
    "plt.ylabel(\"Loss\")\n",
    "plt.show()"
   ]
  },
  {
   "cell_type": "code",
   "execution_count": 72,
   "metadata": {
    "colab": {
     "base_uri": "https://localhost:8080/",
     "height": 279
    },
    "executionInfo": {
     "elapsed": 1203,
     "status": "ok",
     "timestamp": 1603797048848,
     "user": {
      "displayName": "Jay Paul",
      "photoUrl": "https://lh3.googleusercontent.com/a-/AOh14GhhAeeNthaTT1COygFBEGgc09xYD8qgKmbCN8Jygg=s64",
      "userId": "16297805079436329129"
     },
     "user_tz": -330
    },
    "id": "cuyGopBOv-oO",
    "outputId": "35a6600a-5d48-4f68-9dfc-9840ec5bbe25"
   },
   "outputs": [
    {
     "data": {
      "image/png": "[encoded data removed]",
      "text/plain": [
       "<Figure size 432x288 with 1 Axes>"
      ]
     },
     "metadata": {
      "needs_background": "light",
      "tags": []
     },
     "output_type": "display_data"
    }
   ],
   "source": [
    "plt.plot(history.history['accuracy'], c='m')\n",
    "plt.plot(history.history['val_accuracy'], c='y')\n",
    "plt.legend(['train_acc', 'validation_acc'])\n",
    "plt.xlabel(\"Epochs\")\n",
    "plt.ylabel(\"Loss\")\n",
    "plt.show()"
   ]
  },
  {
   "cell_type": "code",
   "execution_count": null,
   "metadata": {
    "id": "SPBTzKY_wIWW"
   },
   "outputs": [],
   "source": []
  }
 ],
 "metadata": {
  "accelerator": "GPU",
  "colab": {
   "collapsed_sections": [],
   "name": "LSTM Keras Language Translation.ipynb",
   "provenance": []
  },
  "kernelspec": {
   "display_name": "Python 3",
   "language": "python",
   "name": "python3"
  },
  "language_info": {
   "codemirror_mode": {
    "name": "ipython",
    "version": 3
   },
   "file_extension": ".py",
   "mimetype": "text/x-python",
   "name": "python",
   "nbconvert_exporter": "python",
   "pygments_lexer": "ipython3",
   "version": "3.7.6"
  }
 },
 "nbformat": 4,
 "nbformat_minor": 1
}