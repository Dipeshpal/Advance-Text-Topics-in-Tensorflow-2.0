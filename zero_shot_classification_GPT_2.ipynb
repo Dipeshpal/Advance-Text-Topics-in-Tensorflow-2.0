{
  "nbformat": 4,
  "nbformat_minor": 0,
  "metadata": {
    "colab": {
      "name": "zero_shot_classification_GPT-2.ipynb",
      "provenance": [],
      "collapsed_sections": [],
      "authorship_tag": "ABX9TyOAMb5Rrd17cevSgy5CJWkI",
      "include_colab_link": true
    },
    "kernelspec": {
      "name": "python3",
      "display_name": "Python 3"
    },
    "language_info": {
      "name": "python"
    }
  },
  "cells": [
    {
      "cell_type": "markdown",
      "metadata": {
        "id": "view-in-github",
        "colab_type": "text"
      },
      "source": [
        "<a href=\"https://colab.research.google.com/github/Dipeshpal/Advance-Text-Topics-in-Tensorflow-2.0/blob/main/zero_shot_classification_GPT_2.ipynb\" target=\"_parent\"><img src=\"https://colab.research.google.com/assets/colab-badge.svg\" alt=\"Open In Colab\"/></a>"
      ]
    },
    {
      "cell_type": "code",
      "metadata": {
        "colab": {
          "base_uri": "https://localhost:8080/"
        },
        "id": "jFOG-SArAKFd",
        "outputId": "8199bcf5-495d-4dbf-83ae-9c28c61c617c"
      },
      "source": [
        "from transformers import AutoTokenizer, AutoModel\n",
        "from torch.nn import functional as F\n",
        "import json\n",
        "\n",
        "tokenizer = AutoTokenizer.from_pretrained('deepset/sentence_bert')\n",
        "model = AutoModel.from_pretrained('deepset/sentence_bert')\n"
      ],
      "execution_count": 7,
      "outputs": [
        {
          "output_type": "stream",
          "text": [
            "Some weights of the model checkpoint at deepset/sentence_bert were not used when initializing BertModel: ['classifier.bias', 'classifier.weight']\n",
            "- This IS expected if you are initializing BertModel from the checkpoint of a model trained on another task or with another architecture (e.g. initializing a BertForSequenceClassification model from a BertForPreTraining model).\n",
            "- This IS NOT expected if you are initializing BertModel from the checkpoint of a model that you expect to be exactly identical (initializing a BertForSequenceClassification model from a BertForSequenceClassification model).\n"
          ],
          "name": "stderr"
        }
      ]
    },
    {
      "cell_type": "code",
      "metadata": {
        "colab": {
          "base_uri": "https://localhost:8080/"
        },
        "id": "Q21XEftyAOMi",
        "outputId": "8f2016fb-96fd-4a3d-986e-08d596aecfb3"
      },
      "source": [
        "file_path = \"/content/sample_data/laptop.json\"\n",
        "\n",
        "f = open(file_path,)\n",
        "data = json.load(f)\n",
        "  \n",
        "name_li = []\n",
        "for i in data:\n",
        "  name_li.append(i['product_name'])\n",
        "  \n",
        "# Closing file\n",
        "f.close()\n",
        "\n",
        "sentence = name_li[:20]\n",
        "labels = ['64 GB', '128 GB', '256 GB', '512 GB', '1 TB']\n",
        "print(sentence)"
      ],
      "execution_count": 33,
      "outputs": [
        {
          "output_type": "stream",
          "text": [
            "[['Asus R465JA Core i3-1005G1 4GB 128GB 14 Inch Full HD Windows 10 S Laptop - R465JA-EK058T'], ['Dell Latitude 3510 Core i5-10210U 8GB 256GB SSD 15.6 Inch Windows 10 Pro Laptop - VCFVM'], ['Lenovo V15-IIL Core i5-1035G1 8GB 512GB SSD 15.6 Inch Full HD Windows 10 Laptop - 82C500G4UK'], ['Lenovo ThinkPad E15 Core i7-10510U 16GB 512GB SSD 15.6 Inch FHD Windows 10 Pro Laptop - 20RD0011UK'], ['HP 250 G7 Core i5-1035G1 8GB 256GB SSD 15.6 Inch Windows 10 Pro Laptop - 14Z88EA'], ['HP 250 G7 Core i5-1035G1 8GB 256GB SSD 15.6 Inch FHD Windows 10 Home Laptop - 15L03ES'], ['Lenovo V14-ADA Athlon Gold 3150U 8GB 256GB SSD 14 Inch Full HD Windows 10 Home Laptop - 82C6005CUK'], ['Lenovo V15-ADA AMD Ryzen 5-3500U 8GB 256GB SSD 15.6 Inch FHD Windows 10 Pro Laptop - 82C70006UK'], ['Lenovo V15 Althlon Silver 3050U 4GB 128GB SSD 15.6 Inch FHD Windows 10 Laptop - 82C700E4UK'], ['Asus C523 Intel Celeron N3350 4GB 64GB eMMC 15.6 Inch Chromebook - C523NA-BR0067'], ['Asus VivoBook R429MA-BV286TS Celeron N4000 4GB 64GB eMMC 14 Inch Windows 10 S Laptop - R429MA-BV286TS'], ['Lenovo Legion 5 AMD Ryzen 7-5800H 16GB 512GB SSD 15.6 Inch FHD GeForce RTX 3070 8GB Windows 10 Gaming Laptop - 82JU002YUK'], ['ASUS M415DA AMD Ryzen 5 3500U 8GB 256GB SSD 14 Inch Full HD Windows 10 Laptop - M415DA-EK027T'], ['Asus C223NA Intel Celeron N3350 4GB 32GB eMMC 11.6 Inch Chromebook - C223NA-GJ0014'], ['Lenovo V14-ADA AMD Ryzen 3 3250U 8GB 256GB SSD 14 Inch Full HD Windows Home 10 Laptop  - 82C6006CUK'], ['Asus VivoBook M413IA AMD Ryzen 5-4500U 8GB 512GB SSD 14 Inch Windows 10 Laptop  - M413IA-EB369T'], ['HP 255 G8 AMD Ryzen 5-3500U 8GB 256GB SSD 15.6 Inch Windows 10 Pro Laptop  - 2E9J4EA'], ['Asus C223NA Intel Celeron N3350 4GB 32GB eMMC 11.6 Inch Chrome OS Chromebook - Red - C223NA-GJ0040'], ['Lenovo V15-ADA AMD Ryzen 5-3500U 8GB 256GB SSD 15.6 Inch FHD Windows 10 Laptop - 82C70005UK'], ['Lenovo ThinkBook 14 Gen 2 Core i7-1165 16GB 512GB SSD 14 Inch Windows 10 Laptop - 20VD008UUK']]\n"
          ],
          "name": "stdout"
        }
      ]
    },
    {
      "cell_type": "code",
      "metadata": {
        "id": "fO9Cse28ATSL"
      },
      "source": [
        "def get_output(sent, labl):\n",
        "  sentence = sent\n",
        "  labels = labl\n",
        "\n",
        "  # run inputs through model and mean-pool over the sequence\n",
        "  # dimension to get sequence-level representations\n",
        "  inputs = tokenizer.batch_encode_plus([sentence] + labels,\n",
        "                                      return_tensors='pt',\n",
        "                                      pad_to_max_length=True)\n",
        "  input_ids = inputs['input_ids']\n",
        "  attention_mask = inputs['attention_mask']\n",
        "  output = model(input_ids, attention_mask=attention_mask)[0]\n",
        "  sentence_rep = output[:1].mean(dim=1)\n",
        "  label_reps = output[1:].mean(dim=1)\n",
        "\n",
        "  # now find the labels with the highest cosine similarities to\n",
        "  # the sentence\n",
        "  similarities = F.cosine_similarity(sentence_rep, label_reps)\n",
        "  closest = similarities.argsort(descending=True)\n",
        "  for ind in closest:\n",
        "      print(f'label: {labels[ind]} \\t similarity: {similarities[ind]}')"
      ],
      "execution_count": 37,
      "outputs": []
    },
    {
      "cell_type": "code",
      "metadata": {
        "colab": {
          "base_uri": "https://localhost:8080/"
        },
        "id": "H-ssxkaYAxle",
        "outputId": "5fdb7b42-e3c2-4a64-831a-4e7afdb51ec3"
      },
      "source": [
        "for i in sentence:\n",
        "  print(i[0])\n",
        "  get_output(i[0], ['32 GB', '64 GB', '128GB', '256GB', '512GB', '1TB'])\n",
        "  print(\"-------------\")"
      ],
      "execution_count": 39,
      "outputs": [
        {
          "output_type": "stream",
          "text": [
            "Asus R465JA Core i3-1005G1 4GB 128GB 14 Inch Full HD Windows 10 S Laptop - R465JA-EK058T\n"
          ],
          "name": "stdout"
        },
        {
          "output_type": "stream",
          "text": [
            "/usr/local/lib/python3.7/dist-packages/transformers/tokenization_utils_base.py:2132: FutureWarning: The `pad_to_max_length` argument is deprecated and will be removed in a future version, use `padding=True` or `padding='longest'` to pad to the longest sequence in the batch, or use `padding='max_length'` to pad to a max length. In this case, you can give a specific length with `max_length` (e.g. `max_length=45`) or leave max_length to None to pad to the maximal input size of the model (e.g. 512 for Bert).\n",
            "  FutureWarning,\n"
          ],
          "name": "stderr"
        },
        {
          "output_type": "stream",
          "text": [
            "label: 128GB \t similarity: 0.5040740966796875\n",
            "label: 64 GB \t similarity: 0.4159872233867645\n",
            "label: 256GB \t similarity: 0.38052648305892944\n",
            "label: 512GB \t similarity: 0.31228166818618774\n",
            "label: 32 GB \t similarity: 0.2987075746059418\n",
            "label: 1TB \t similarity: 0.22793258726596832\n",
            "-------------\n",
            "Dell Latitude 3510 Core i5-10210U 8GB 256GB SSD 15.6 Inch Windows 10 Pro Laptop - VCFVM\n",
            "label: 256GB \t similarity: 0.39091265201568604\n",
            "label: 64 GB \t similarity: 0.3374136984348297\n",
            "label: 512GB \t similarity: 0.3313816487789154\n",
            "label: 128GB \t similarity: 0.2930392622947693\n",
            "label: 32 GB \t similarity: 0.27225372195243835\n",
            "label: 1TB \t similarity: 0.06114767864346504\n",
            "-------------\n",
            "Lenovo V15-IIL Core i5-1035G1 8GB 512GB SSD 15.6 Inch Full HD Windows 10 Laptop - 82C500G4UK\n",
            "label: 512GB \t similarity: 0.45660126209259033\n",
            "label: 128GB \t similarity: 0.4063299298286438\n",
            "label: 256GB \t similarity: 0.35200175642967224\n",
            "label: 64 GB \t similarity: 0.3311329782009125\n",
            "label: 32 GB \t similarity: 0.28968051075935364\n",
            "label: 1TB \t similarity: 0.12179055064916611\n",
            "-------------\n",
            "Lenovo ThinkPad E15 Core i7-10510U 16GB 512GB SSD 15.6 Inch FHD Windows 10 Pro Laptop - 20RD0011UK\n",
            "label: 256GB \t similarity: 0.5010088086128235\n",
            "label: 512GB \t similarity: 0.48345839977264404\n",
            "label: 64 GB \t similarity: 0.4716825485229492\n",
            "label: 128GB \t similarity: 0.45416268706321716\n",
            "label: 32 GB \t similarity: 0.29161500930786133\n",
            "label: 1TB \t similarity: 0.16292835772037506\n",
            "-------------\n",
            "HP 250 G7 Core i5-1035G1 8GB 256GB SSD 15.6 Inch Windows 10 Pro Laptop - 14Z88EA\n",
            "label: 256GB \t similarity: 0.5578283071517944\n",
            "label: 64 GB \t similarity: 0.43998733162879944\n",
            "label: 128GB \t similarity: 0.43415868282318115\n",
            "label: 512GB \t similarity: 0.3532543182373047\n",
            "label: 32 GB \t similarity: 0.3483131229877472\n",
            "label: 1TB \t similarity: 0.12096361815929413\n",
            "-------------\n",
            "HP 250 G7 Core i5-1035G1 8GB 256GB SSD 15.6 Inch FHD Windows 10 Home Laptop - 15L03ES\n",
            "label: 256GB \t similarity: 0.5288071632385254\n",
            "label: 128GB \t similarity: 0.42095449566841125\n",
            "label: 64 GB \t similarity: 0.41825512051582336\n",
            "label: 512GB \t similarity: 0.3475090265274048\n",
            "label: 32 GB \t similarity: 0.313311904668808\n",
            "label: 1TB \t similarity: 0.11730101704597473\n",
            "-------------\n",
            "Lenovo V14-ADA Athlon Gold 3150U 8GB 256GB SSD 14 Inch Full HD Windows 10 Home Laptop - 82C6005CUK\n",
            "label: 256GB \t similarity: 0.41391614079475403\n",
            "label: 128GB \t similarity: 0.4028472304344177\n",
            "label: 64 GB \t similarity: 0.36047133803367615\n",
            "label: 32 GB \t similarity: 0.3573707342147827\n",
            "label: 512GB \t similarity: 0.3316384255886078\n",
            "label: 1TB \t similarity: 0.07423711568117142\n",
            "-------------\n",
            "Lenovo V15-ADA AMD Ryzen 5-3500U 8GB 256GB SSD 15.6 Inch FHD Windows 10 Pro Laptop - 82C70006UK\n",
            "label: 256GB \t similarity: 0.41762593388557434\n",
            "label: 512GB \t similarity: 0.35014602541923523\n",
            "label: 128GB \t similarity: 0.3416263163089752\n",
            "label: 64 GB \t similarity: 0.3335547149181366\n",
            "label: 32 GB \t similarity: 0.27679017186164856\n",
            "label: 1TB \t similarity: 0.06511232256889343\n",
            "-------------\n",
            "Lenovo V15 Althlon Silver 3050U 4GB 128GB SSD 15.6 Inch FHD Windows 10 Laptop - 82C700E4UK\n",
            "label: 128GB \t similarity: 0.477693647146225\n",
            "label: 256GB \t similarity: 0.4211744964122772\n",
            "label: 64 GB \t similarity: 0.3802277445793152\n",
            "label: 512GB \t similarity: 0.35936984419822693\n",
            "label: 32 GB \t similarity: 0.35482972860336304\n",
            "label: 1TB \t similarity: 0.07149624079465866\n",
            "-------------\n",
            "Asus C523 Intel Celeron N3350 4GB 64GB eMMC 15.6 Inch Chromebook - C523NA-BR0067\n",
            "label: 64 GB \t similarity: 0.5978167057037354\n",
            "label: 256GB \t similarity: 0.5390866994857788\n",
            "label: 128GB \t similarity: 0.5276132225990295\n",
            "label: 32 GB \t similarity: 0.4768884778022766\n",
            "label: 512GB \t similarity: 0.3793005645275116\n",
            "label: 1TB \t similarity: 0.180977001786232\n",
            "-------------\n",
            "Asus VivoBook R429MA-BV286TS Celeron N4000 4GB 64GB eMMC 14 Inch Windows 10 S Laptop - R429MA-BV286TS\n",
            "label: 64 GB \t similarity: 0.5664822459220886\n",
            "label: 256GB \t similarity: 0.44209691882133484\n",
            "label: 128GB \t similarity: 0.4150640368461609\n",
            "label: 32 GB \t similarity: 0.3948914408683777\n",
            "label: 512GB \t similarity: 0.30892449617385864\n",
            "label: 1TB \t similarity: 0.18438300490379333\n",
            "-------------\n",
            "Lenovo Legion 5 AMD Ryzen 7-5800H 16GB 512GB SSD 15.6 Inch FHD GeForce RTX 3070 8GB Windows 10 Gaming Laptop - 82JU002YUK\n",
            "label: 128GB \t similarity: 0.482707679271698\n",
            "label: 512GB \t similarity: 0.4267837703227997\n",
            "label: 256GB \t similarity: 0.41386130452156067\n",
            "label: 64 GB \t similarity: 0.39677301049232483\n",
            "label: 32 GB \t similarity: 0.2790953814983368\n",
            "label: 1TB \t similarity: 0.058440230786800385\n",
            "-------------\n",
            "ASUS M415DA AMD Ryzen 5 3500U 8GB 256GB SSD 14 Inch Full HD Windows 10 Laptop - M415DA-EK027T\n",
            "label: 256GB \t similarity: 0.38707593083381653\n",
            "label: 64 GB \t similarity: 0.325408935546875\n",
            "label: 128GB \t similarity: 0.3173457086086273\n",
            "label: 512GB \t similarity: 0.3111836314201355\n",
            "label: 32 GB \t similarity: 0.25284263491630554\n",
            "label: 1TB \t similarity: 0.11892396211624146\n",
            "-------------\n",
            "Asus C223NA Intel Celeron N3350 4GB 32GB eMMC 11.6 Inch Chromebook - C223NA-GJ0014\n",
            "label: 32 GB \t similarity: 0.4230271577835083\n",
            "label: 256GB \t similarity: 0.3757522702217102\n",
            "label: 128GB \t similarity: 0.3670441806316376\n",
            "label: 64 GB \t similarity: 0.34379154443740845\n",
            "label: 512GB \t similarity: 0.24186865985393524\n",
            "label: 1TB \t similarity: 0.1170831173658371\n",
            "-------------\n",
            "Lenovo V14-ADA AMD Ryzen 3 3250U 8GB 256GB SSD 14 Inch Full HD Windows Home 10 Laptop  - 82C6006CUK\n",
            "label: 256GB \t similarity: 0.3879026174545288\n",
            "label: 128GB \t similarity: 0.3850635588169098\n",
            "label: 32 GB \t similarity: 0.35479459166526794\n",
            "label: 64 GB \t similarity: 0.3403475284576416\n",
            "label: 512GB \t similarity: 0.32702720165252686\n",
            "label: 1TB \t similarity: 0.11507008969783783\n",
            "-------------\n",
            "Asus VivoBook M413IA AMD Ryzen 5-4500U 8GB 512GB SSD 14 Inch Windows 10 Laptop  - M413IA-EB369T\n",
            "label: 512GB \t similarity: 0.4059753715991974\n",
            "label: 128GB \t similarity: 0.3559727370738983\n",
            "label: 64 GB \t similarity: 0.33209484815597534\n",
            "label: 256GB \t similarity: 0.27589893341064453\n",
            "label: 32 GB \t similarity: 0.25480636954307556\n",
            "label: 1TB \t similarity: 0.18127593398094177\n",
            "-------------\n",
            "HP 255 G8 AMD Ryzen 5-3500U 8GB 256GB SSD 15.6 Inch Windows 10 Pro Laptop  - 2E9J4EA\n",
            "label: 256GB \t similarity: 0.4893236756324768\n",
            "label: 128GB \t similarity: 0.3564353883266449\n",
            "label: 64 GB \t similarity: 0.3350764811038971\n",
            "label: 512GB \t similarity: 0.3202321231365204\n",
            "label: 32 GB \t similarity: 0.2703353762626648\n",
            "label: 1TB \t similarity: 0.06347152590751648\n",
            "-------------\n",
            "Asus C223NA Intel Celeron N3350 4GB 32GB eMMC 11.6 Inch Chrome OS Chromebook - Red - C223NA-GJ0040\n",
            "label: 32 GB \t similarity: 0.4038613438606262\n",
            "label: 256GB \t similarity: 0.3661176264286041\n",
            "label: 128GB \t similarity: 0.3361876606941223\n",
            "label: 64 GB \t similarity: 0.31044521927833557\n",
            "label: 512GB \t similarity: 0.22113551199436188\n",
            "label: 1TB \t similarity: 0.10057904571294785\n",
            "-------------\n",
            "Lenovo V15-ADA AMD Ryzen 5-3500U 8GB 256GB SSD 15.6 Inch FHD Windows 10 Laptop - 82C70005UK\n",
            "label: 256GB \t similarity: 0.4260247051715851\n",
            "label: 512GB \t similarity: 0.37311840057373047\n",
            "label: 128GB \t similarity: 0.3591495752334595\n",
            "label: 64 GB \t similarity: 0.34447842836380005\n",
            "label: 32 GB \t similarity: 0.2868129014968872\n",
            "label: 1TB \t similarity: 0.07892698794603348\n",
            "-------------\n",
            "Lenovo ThinkBook 14 Gen 2 Core i7-1165 16GB 512GB SSD 14 Inch Windows 10 Laptop - 20VD008UUK\n",
            "label: 512GB \t similarity: 0.4953724145889282\n",
            "label: 128GB \t similarity: 0.4584169089794159\n",
            "label: 64 GB \t similarity: 0.43086928129196167\n",
            "label: 256GB \t similarity: 0.41161173582077026\n",
            "label: 32 GB \t similarity: 0.31618401408195496\n",
            "label: 1TB \t similarity: 0.17241711914539337\n",
            "-------------\n"
          ],
          "name": "stdout"
        }
      ]
    },
    {
      "cell_type": "code",
      "metadata": {
        "id": "xzgw7y-CEG4U"
      },
      "source": [
        ""
      ],
      "execution_count": null,
      "outputs": []
    }
  ]
}